{
  "nbformat": 4,
  "nbformat_minor": 0,
  "metadata": {
    "colab": {
      "provenance": []
    },
    "kernelspec": {
      "name": "python3",
      "display_name": "Python 3"
    },
    "language_info": {
      "name": "python"
    }
  },
  "cells": [
    {
      "cell_type": "markdown",
      "source": [
        "# Data Science Tools and Ecosystem"
      ],
      "metadata": {
        "id": "71nyHBLZAjj3"
      }
    },
    {
      "cell_type": "markdown",
      "source": [
        "In this notebook, Data Science Tools and Ecosystem are summarized.\n",
        "\n"
      ],
      "metadata": {
        "id": "LayKcpO66ydz"
      }
    },
    {
      "cell_type": "markdown",
      "source": [
        "**Objectives:**\n",
        "\n",
        "- Popular languages that Data Scientists use;\n",
        "- Popular libraries used in data science;\n",
        "- Main data science environments used."
      ],
      "metadata": {
        "id": "X0YCyrpzA3gQ"
      }
    },
    {
      "cell_type": "markdown",
      "source": [
        "Some of the popular languages that Data Scientists use are:\n",
        "\n",
        "1. Python;\n",
        "2. R;\n",
        "3. SQL."
      ],
      "metadata": {
        "id": "WWSMGrFJ7aWb"
      }
    },
    {
      "cell_type": "markdown",
      "source": [
        "Some of the commonly used libraries used by Data Scientists include:\n",
        "\n",
        "1. NumPy;\n",
        "2. Pandas;\n",
        "3. Scikit-learn."
      ],
      "metadata": {
        "id": "nLoY4iJH8MYg"
      }
    },
    {
      "cell_type": "markdown",
      "source": [
        "| Data Science Tools\n",
        "| -------------\n",
        "| GitHub\n",
        "| RStduio\n",
        "| Jupyter Notebooks"
      ],
      "metadata": {
        "id": "LXaPbIcN9g7S"
      }
    },
    {
      "cell_type": "markdown",
      "source": [
        "### Below are a few examples of evaluating arithmetic expressions in Python"
      ],
      "metadata": {
        "id": "SkOLPXJQ-OW1"
      }
    },
    {
      "cell_type": "code",
      "source": [
        "#This a simple arithmetic expression to mutiply then add integers\n",
        "\n",
        "(3*4)+5"
      ],
      "metadata": {
        "colab": {
          "base_uri": "https://localhost:8080/"
        },
        "id": "FS7xDAXa9fxU",
        "outputId": "d1995f71-98aa-4508-9bac-59cd284f373a"
      },
      "execution_count": 2,
      "outputs": [
        {
          "output_type": "execute_result",
          "data": {
            "text/plain": [
              "17"
            ]
          },
          "metadata": {},
          "execution_count": 2
        }
      ]
    },
    {
      "cell_type": "code",
      "source": [
        "#This will convert 200 minutes to hours by diving by 60\n",
        "\n",
        "200/60"
      ],
      "metadata": {
        "colab": {
          "base_uri": "https://localhost:8080/"
        },
        "id": "XIMVxuse-r5b",
        "outputId": "7ac4cd26-99a8-44de-d94a-e389ce6cd956"
      },
      "execution_count": 4,
      "outputs": [
        {
          "output_type": "execute_result",
          "data": {
            "text/plain": [
              "3.3333333333333335"
            ]
          },
          "metadata": {},
          "execution_count": 4
        }
      ]
    },
    {
      "cell_type": "markdown",
      "source": [
        "## Author\n",
        "Érick Teixeira Rodrigues"
      ],
      "metadata": {
        "id": "VZ2mCIvpCuKU"
      }
    },
    {
      "cell_type": "markdown",
      "source": [],
      "metadata": {
        "id": "V8NII9F0AMxU"
      }
    },
    {
      "cell_type": "code",
      "source": [],
      "metadata": {
        "id": "n_bZfk4M_zc3"
      },
      "execution_count": null,
      "outputs": []
    }
  ]
}